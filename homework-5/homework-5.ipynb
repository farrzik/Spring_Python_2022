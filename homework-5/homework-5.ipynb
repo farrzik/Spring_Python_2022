{
 "cells": [
  {
   "cell_type": "markdown",
   "id": "592f14a5",
   "metadata": {},
   "source": [
    "# Реализация LU- и LUP- алгоритмов для решения СЛАУ\n",
    "## Белов Никита Дмитриевич НПМбд-01-19"
   ]
  },
  {
   "cell_type": "markdown",
   "id": "edc5514d",
   "metadata": {},
   "source": [
    "Импортируем библиотеку numpy."
   ]
  },
  {
   "cell_type": "code",
   "execution_count": 1,
   "id": "dd8cbc3d",
   "metadata": {},
   "outputs": [],
   "source": [
    "import numpy as np"
   ]
  },
  {
   "cell_type": "markdown",
   "id": "e047362a",
   "metadata": {},
   "source": [
    "## LU-алгоритм"
   ]
  },
  {
   "cell_type": "markdown",
   "id": "a4b857a8",
   "metadata": {},
   "source": [
    "Преобразуем матрицу А в L и U матрицы. Cкопируем А в U, L сделаем единичной при помощи встроенной функции np.eye(). Используем переменную f как вспомогательную."
   ]
  },
  {
   "cell_type": "code",
   "execution_count": 73,
   "id": "50f7167b",
   "metadata": {},
   "outputs": [],
   "source": [
    "def a_to_lu(a):\n",
    "    rows = a.shape[0]\n",
    "    u = a.copy()\n",
    "    l = np.eye(rows)\n",
    "    for i in range(rows):\n",
    "        f = u[i+1:, i] / u[i, i]\n",
    "        l[i+1:, i] = f\n",
    "        u[i+1:] -= f[:, np.newaxis] * u[i]\n",
    "    return l, u"
   ]
  },
  {
   "cell_type": "markdown",
   "id": "ea0d1c2a",
   "metadata": {},
   "source": [
    "Теперь находим y из Ly = b, при помощи встроенной функции np.zeros_like(b), которая возвращает нулевую матрицу с той же размерностью, что и у вектора b."
   ]
  },
  {
   "cell_type": "code",
   "execution_count": 74,
   "id": "e8c258e7",
   "metadata": {},
   "outputs": [],
   "source": [
    "def get_y(l, b):   \n",
    "    rows = l.shape[0]  \n",
    "    y = np.zeros_like(b, dtype=np.double);   \n",
    "    y[0] = b[0] / l[0, 0]    \n",
    "    for i in range(1, rows):\n",
    "        y[i] = (b[i] - np.dot(l[i,:i], y[:i])) / l[i,i]        \n",
    "    return y"
   ]
  },
  {
   "cell_type": "markdown",
   "id": "5fc627e7",
   "metadata": {},
   "source": [
    "А затем из уравнения Ux = y мы находим x:"
   ]
  },
  {
   "cell_type": "code",
   "execution_count": 75,
   "id": "c33b3180",
   "metadata": {},
   "outputs": [],
   "source": [
    "def get_x(u, y):\n",
    "    rows = u.shape[0]\n",
    "    x = np.zeros_like(y, dtype=np.double);\n",
    "    x[-1] = y[-1] / u[-1, -1]\n",
    "    for i in range(rows-2, -1, -1):\n",
    "        x[i] = (y[i] - np.dot(u[i,i:], x[i:])) / u[i,i]   \n",
    "    return x"
   ]
  },
  {
   "cell_type": "markdown",
   "id": "f922bf64",
   "metadata": {},
   "source": [
    "Функция решения записывается в 3 строчки:"
   ]
  },
  {
   "cell_type": "code",
   "execution_count": 76,
   "id": "9570ca44",
   "metadata": {},
   "outputs": [],
   "source": [
    "def solve_lu(a, b):  \n",
    "    l, u = a_to_lu(a) \n",
    "    y = get_y(l, b)\n",
    "    return get_x(u, y)"
   ]
  },
  {
   "cell_type": "markdown",
   "id": "dfbfeed2",
   "metadata": {},
   "source": [
    "Протестируем наш код на простом примере (с матрицей от 1 до 9 возникали трудности, поэтому изменил последний член на 10):"
   ]
  },
  {
   "cell_type": "code",
   "execution_count": 90,
   "id": "b57212d9",
   "metadata": {},
   "outputs": [
    {
     "data": {
      "text/plain": [
       "array([[-0.66666667],\n",
       "       [-0.66666667],\n",
       "       [ 1.        ]])"
      ]
     },
     "execution_count": 90,
     "metadata": {},
     "output_type": "execute_result"
    }
   ],
   "source": [
    "a = np.array([[1., 2., 3.], [4., 5., 6.], [7., 8., 10.]])\n",
    "b = np.array([[1], [0], [0]])\n",
    "\n",
    "solve_lu(a, b)"
   ]
  },
  {
   "cell_type": "code",
   "execution_count": 80,
   "id": "e8e3bdfd",
   "metadata": {},
   "outputs": [
    {
     "name": "stdout",
     "output_type": "stream",
     "text": [
      "47.6 µs ± 922 ns per loop (mean ± std. dev. of 7 runs, 10000 loops each)\n"
     ]
    }
   ],
   "source": [
    "%timeit solve_lu(a,b)"
   ]
  },
  {
   "cell_type": "markdown",
   "id": "6b68d944",
   "metadata": {},
   "source": [
    "Сравним ответ с linalg.solve, который реализован по тому же алгоритму в numpy:"
   ]
  },
  {
   "cell_type": "code",
   "execution_count": 78,
   "id": "2abc7670",
   "metadata": {},
   "outputs": [
    {
     "data": {
      "text/plain": [
       "array([[-0.66666667],\n",
       "       [-0.66666667],\n",
       "       [ 1.        ]])"
      ]
     },
     "execution_count": 78,
     "metadata": {},
     "output_type": "execute_result"
    }
   ],
   "source": [
    "np.linalg.solve(a, b)"
   ]
  },
  {
   "cell_type": "markdown",
   "id": "9e28bbb6",
   "metadata": {},
   "source": [
    "Протестируем наш код на более сложном примере, найденном на просторах интернета:"
   ]
  },
  {
   "cell_type": "code",
   "execution_count": 87,
   "id": "8604be64",
   "metadata": {},
   "outputs": [
    {
     "data": {
      "text/plain": [
       "array([ 0.05614973,  0.25935829, -0.01871658])"
      ]
     },
     "execution_count": 87,
     "metadata": {},
     "output_type": "execute_result"
    }
   ],
   "source": [
    "c = np.array([[1, 4, 5], [6, 8, 22], [32, 5., 5]])\n",
    "d = np.array([1, 2, 3.])\n",
    "\n",
    "solve_lu(c, d)"
   ]
  },
  {
   "cell_type": "code",
   "execution_count": 88,
   "id": "6432ffaf",
   "metadata": {},
   "outputs": [
    {
     "name": "stdout",
     "output_type": "stream",
     "text": [
      "37.6 µs ± 179 ns per loop (mean ± std. dev. of 7 runs, 10000 loops each)\n"
     ]
    }
   ],
   "source": [
    "%timeit lu_solve(c,d)"
   ]
  },
  {
   "cell_type": "markdown",
   "id": "76d63702",
   "metadata": {},
   "source": [
    "Снова сравним со встроенной функцией ответ:"
   ]
  },
  {
   "cell_type": "code",
   "execution_count": 89,
   "id": "af3203eb",
   "metadata": {},
   "outputs": [
    {
     "data": {
      "text/plain": [
       "array([ 0.05614973,  0.25935829, -0.01871658])"
      ]
     },
     "execution_count": 89,
     "metadata": {},
     "output_type": "execute_result"
    }
   ],
   "source": [
    "np.linalg.solve(c, d)"
   ]
  },
  {
   "cell_type": "markdown",
   "id": "e2439dd5",
   "metadata": {},
   "source": [
    "## PLU-алгоритм\n",
    "Для реализации этого алгоритма будем использовать те же функции get_y, get_x, но изменил функцию solve и напишем новую функцию для получения самих матриц P,L,U. Для получения матрицы P мне все же пришлось использовать двойной цикл for, но он идет не каждый раз по всем строкам, что заметно ускоряет процесс. Используем также функцию ~np.isclose(), которая в случае максимального приближения значения к нулю завершит внутренний цикл."
   ]
  },
  {
   "cell_type": "code",
   "execution_count": 85,
   "id": "45358bd7",
   "metadata": {},
   "outputs": [],
   "source": [
    "def a_to_plu(a):\n",
    "    rows = a.shape[0]\n",
    "    u = a.copy()\n",
    "    l = np.eye(rows, dtype=np.double)\n",
    "    p = np.eye(rows, dtype=np.double)\n",
    "    for i in range(rows):\n",
    "        for j in range(i, rows):\n",
    "            if ~np.isclose(u[i, i], 0.0):\n",
    "                break\n",
    "            u[[j, j+1]] = u[[j+1, j]]\n",
    "            p[[j, j+1]] = p[[j+1, j]]\n",
    "        f = u[i+1:, i] / u[i, i]\n",
    "        l[i+1:, i] = f\n",
    "        u[i+1:] -= f[:, np.newaxis] * u[i]   \n",
    "    return p,l,u"
   ]
  },
  {
   "cell_type": "markdown",
   "id": "2869d3f3",
   "metadata": {},
   "source": [
    "Функция решения поменяется лишь в одной строчке:"
   ]
  },
  {
   "cell_type": "code",
   "execution_count": 86,
   "id": "14a6f72c",
   "metadata": {},
   "outputs": [],
   "source": [
    "def solve_plu(a, b):\n",
    "    p,l,u = a_to_plu(a)\n",
    "    y = get_y(l, np.dot(p, b))\n",
    "    return get_x(u, y)"
   ]
  },
  {
   "cell_type": "markdown",
   "id": "ea718878",
   "metadata": {},
   "source": [
    "Протестируем наш код на простом примере:"
   ]
  },
  {
   "cell_type": "code",
   "execution_count": 92,
   "id": "a99b7ccc",
   "metadata": {},
   "outputs": [
    {
     "data": {
      "text/plain": [
       "array([[-0.66666667],\n",
       "       [-0.66666667],\n",
       "       [ 1.        ]])"
      ]
     },
     "execution_count": 92,
     "metadata": {},
     "output_type": "execute_result"
    }
   ],
   "source": [
    "solve_plu(a, b)"
   ]
  },
  {
   "cell_type": "code",
   "execution_count": 94,
   "id": "9149e2c9",
   "metadata": {},
   "outputs": [
    {
     "name": "stdout",
     "output_type": "stream",
     "text": [
      "137 µs ± 1.95 µs per loop (mean ± std. dev. of 7 runs, 10000 loops each)\n"
     ]
    }
   ],
   "source": [
    "%timeit solve_plu(a,b)"
   ]
  },
  {
   "cell_type": "markdown",
   "id": "c754a718",
   "metadata": {},
   "source": [
    "Сверяем со встроенной функцией:"
   ]
  },
  {
   "cell_type": "code",
   "execution_count": 93,
   "id": "bd635b10",
   "metadata": {},
   "outputs": [
    {
     "data": {
      "text/plain": [
       "array([[-0.66666667],\n",
       "       [-0.66666667],\n",
       "       [ 1.        ]])"
      ]
     },
     "execution_count": 93,
     "metadata": {},
     "output_type": "execute_result"
    }
   ],
   "source": [
    "np.linalg.solve(a, b)"
   ]
  },
  {
   "cell_type": "markdown",
   "id": "39ad2c9b",
   "metadata": {},
   "source": [
    "Проведём второй тест:"
   ]
  },
  {
   "cell_type": "code",
   "execution_count": 95,
   "id": "4c86e55f",
   "metadata": {},
   "outputs": [
    {
     "data": {
      "text/plain": [
       "array([ 0.05614973,  0.25935829, -0.01871658])"
      ]
     },
     "execution_count": 95,
     "metadata": {},
     "output_type": "execute_result"
    }
   ],
   "source": [
    "solve_plu(c,d)"
   ]
  },
  {
   "cell_type": "code",
   "execution_count": 96,
   "id": "fe55fc1d",
   "metadata": {},
   "outputs": [
    {
     "name": "stdout",
     "output_type": "stream",
     "text": [
      "130 µs ± 737 ns per loop (mean ± std. dev. of 7 runs, 10000 loops each)\n"
     ]
    }
   ],
   "source": [
    "%timeit solve_plu(c,d)"
   ]
  },
  {
   "cell_type": "markdown",
   "id": "9e07b9fd",
   "metadata": {},
   "source": [
    "Сравним с ответом:"
   ]
  },
  {
   "cell_type": "code",
   "execution_count": 97,
   "id": "dbac61c5",
   "metadata": {},
   "outputs": [
    {
     "data": {
      "text/plain": [
       "array([ 0.05614973,  0.25935829, -0.01871658])"
      ]
     },
     "execution_count": 97,
     "metadata": {},
     "output_type": "execute_result"
    }
   ],
   "source": [
    "np.linalg.solve(c,d)"
   ]
  },
  {
   "cell_type": "markdown",
   "id": "2b546770",
   "metadata": {},
   "source": [
    "# Вывод:\n",
    "В матрице 3х3 из реализованных нами методов наиболее эффективным можно назвать метод LU, но метод PLU также достаточно эффективен и работает не так уж и медленно."
   ]
  }
 ],
 "metadata": {
  "kernelspec": {
   "display_name": "Python 3 (ipykernel)",
   "language": "python",
   "name": "python3"
  },
  "language_info": {
   "codemirror_mode": {
    "name": "ipython",
    "version": 3
   },
   "file_extension": ".py",
   "mimetype": "text/x-python",
   "name": "python",
   "nbconvert_exporter": "python",
   "pygments_lexer": "ipython3",
   "version": "3.9.7"
  }
 },
 "nbformat": 4,
 "nbformat_minor": 5
}
